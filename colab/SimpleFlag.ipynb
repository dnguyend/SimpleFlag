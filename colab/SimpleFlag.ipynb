{
  "nbformat": 4,
  "nbformat_minor": 0,
  "metadata": {
    "colab": {
      "name": "SimpleFlag.ipynb",
      "provenance": [],
      "authorship_tag": "ABX9TyMvNqnW/zZOG+xLESsiyzt/",
      "include_colab_link": true
    },
    "kernelspec": {
      "name": "python3",
      "display_name": "Python 3"
    },
    "language_info": {
      "name": "python"
    }
  },
  "cells": [
    {
      "cell_type": "markdown",
      "metadata": {
        "id": "view-in-github",
        "colab_type": "text"
      },
      "source": [
        "<a href=\"https://colab.research.google.com/github/dnguyend/SimpleFlag/blob/main/colab/SimpleFlag.ipynb\" target=\"_parent\"><img src=\"https://colab.research.google.com/assets/colab-badge.svg\" alt=\"Open In Colab\"/></a>"
      ]
    },
    {
      "cell_type": "markdown",
      "metadata": {
        "id": "g2d80Dc_5CvT"
      },
      "source": [
        "# Optimization examples on flag manifolds\n",
        "\n",
        "First, loading the required libraries"
      ]
    },
    {
      "cell_type": "code",
      "metadata": {
        "colab": {
          "base_uri": "https://localhost:8080/"
        },
        "id": "1fyXGLYSesut",
        "outputId": "13f6773a-6da4-416f-d89f-eed78f2fcae9"
      },
      "source": [
        "!git clone  https://github.com/pymanopt/pymanopt.git\n",
        "import sys\n",
        "sys.path.append(\"/content/pymanopt\")"
      ],
      "execution_count": 2,
      "outputs": [
        {
          "output_type": "stream",
          "text": [
            "Cloning into 'pymanopt'...\n",
            "remote: Enumerating objects: 4127, done.\u001b[K\n",
            "remote: Counting objects: 100% (3/3), done.\u001b[K\n",
            "remote: Compressing objects: 100% (3/3), done.\u001b[K\n",
            "remote: Total 4127 (delta 0), reused 0 (delta 0), pack-reused 4124\u001b[K\n",
            "Receiving objects: 100% (4127/4127), 899.14 KiB | 12.15 MiB/s, done.\n",
            "Resolving deltas: 100% (2876/2876), done.\n"
          ],
          "name": "stdout"
        }
      ]
    },
    {
      "cell_type": "code",
      "metadata": {
        "colab": {
          "base_uri": "https://localhost:8080/"
        },
        "id": "RdvaGvyQfNAm",
        "outputId": "68cfdca5-281a-4d31-f6e5-9b962f2e4b82"
      },
      "source": [
        "!git clone https://github.com/dnguyend/ManNullRange.git\n",
        "!git clone https://github.com/dnguyend/SimpleFlag.git"
      ],
      "execution_count": 3,
      "outputs": [
        {
          "output_type": "stream",
          "text": [
            "Cloning into 'ManNullRange'...\n",
            "remote: Enumerating objects: 253, done.\u001b[K\n",
            "remote: Counting objects: 100% (253/253), done.\u001b[K\n",
            "remote: Compressing objects: 100% (192/192), done.\u001b[K\n",
            "remote: Total 253 (delta 164), reused 106 (delta 60), pack-reused 0\u001b[K\n",
            "Receiving objects: 100% (253/253), 770.12 KiB | 5.97 MiB/s, done.\n",
            "Resolving deltas: 100% (164/164), done.\n",
            "Cloning into 'SimpleFlag'...\n",
            "remote: Enumerating objects: 24, done.\u001b[K\n",
            "remote: Counting objects: 100% (24/24), done.\u001b[K\n",
            "remote: Compressing objects: 100% (18/18), done.\u001b[K\n",
            "remote: Total 24 (delta 6), reused 13 (delta 2), pack-reused 0\u001b[K\n",
            "Unpacking objects: 100% (24/24), done.\n"
          ],
          "name": "stdout"
        }
      ]
    },
    {
      "cell_type": "code",
      "metadata": {
        "id": "6UnmpnvAgQ3C"
      },
      "source": [
        "sys.path.append(\"/content/ManNullRange\")\n",
        "sys.path.append(\"/content/SimpleFlag\")\n"
      ],
      "execution_count": 4,
      "outputs": []
    },
    {
      "cell_type": "code",
      "metadata": {
        "id": "8g0eFimmgiN6"
      },
      "source": [
        "from SimpleFlag.manifolds import RealFlagOpt\n"
      ],
      "execution_count": 5,
      "outputs": []
    },
    {
      "cell_type": "markdown",
      "metadata": {
        "id": "qxfiqwtRPL7C"
      },
      "source": [
        "Simple code, test Trust region and Steepest descent, then run over a ladder of 60 grid points of $\\alpha = \\alpha_1/\\alpha_0$ from $0.12$ to $1.28$."
      ]
    },
    {
      "cell_type": "code",
      "metadata": {
        "colab": {
          "base_uri": "https://localhost:8080/"
        },
        "id": "4v2aZj0RhtHL",
        "outputId": "5101de84-e57d-418c-9f08-c5682e438dda"
      },
      "source": [
        "import numpy as np\n",
        "from numpy import trace\n",
        "from SimpleFlag.manifolds.RealFlagOpt import RealFlagOpt\n",
        "\n",
        "\n",
        "def l1(A):\n",
        "    return np.max(np.abs(A))\n",
        "\n",
        "if True:\n",
        "    from ManNullRange.tests.test_tools import random_orthogonal\n",
        "    \n",
        "    from pymanopt import Problem\n",
        "    from pymanopt.solvers import TrustRegions\n",
        "    from pymanopt.function import Callable\n",
        "\n",
        "    n = 1000\n",
        "    np.random.seed(0)\n",
        "    \n",
        "    for i in range(1):\n",
        "        dvec = np.array([0, 30, 20, 10])\n",
        "        # dvec = np.array([0, 3, 2, 2])\n",
        "        dvec[0] = n - dvec[1:].sum()\n",
        "        \n",
        "        d = dvec[1:].sum()\n",
        "        dvec[0] = n - d\n",
        "        D = np.random.randint(1, 100, n) * 0.2\n",
        "        OO = random_orthogonal(n)\n",
        "        A = OO @ np.diag(D) @ OO.T\n",
        "\n",
        "        alp = np.array([1, np.random.randint(1, 20)*.1])\n",
        "        man = RealFlagOpt(dvec, alp=alp)\n",
        "        pp = dvec.shape[0] - 1\n",
        "        \n",
        "        Lbd = np.concatenate(\n",
        "            [dvec[a]*[a] for a in np.arange(1, pp+1)])        \n",
        "        \n",
        "        @Callable\n",
        "        def cost(X):\n",
        "            U = ((X.T@A)@X)*Lbd[None, :]\n",
        "            return trace(U@U)\n",
        "        \n",
        "        @Callable\n",
        "        def egrad(X):\n",
        "            AXL = (A@X)*Lbd[None, :]\n",
        "            return 4*AXL@(X.T@AXL)\n",
        "\n",
        "        @Callable\n",
        "        def ehess(X, H):\n",
        "            AHL = (A@H)*Lbd[None, :]\n",
        "            AXL = (A@X)*Lbd[None, :]\n",
        "            return 4*AHL@(X.T@AXL) + 4*AXL@(H.T@AXL) + 4*AXL@(X.T@AHL)\n",
        "                \n",
        "        if False:\n",
        "            X = man.rand()\n",
        "            xi = man.randvec(X)\n",
        "            d1 = num_deriv(man, X, xi, cost)\n",
        "            d2 = trace(egrad(X) @ xi.T)\n",
        "            print(l1(d1-d2))\n",
        "\n",
        "            # test retraction.\n",
        "            dlt = 1e-7\n",
        "            print((man.exp(X, dlt*xi) - X)/dlt-xi)\n",
        "            print(l1(ehess(X, xi) - (egrad(X+dlt*xi) - egrad(X))/dlt))\n",
        "                    \n",
        "        # prob = Problem(man, cost, egrad=egrad)\n",
        "        XInit = man.rand()\n",
        "\n",
        "        print('doing alp %s' % alp)\n",
        "        prob = Problem(\n",
        "            man, cost, egrad=egrad, ehess=ehess, verbosity=1)\n",
        "\n",
        "        solver = TrustRegions(maxtime=100000, maxiter=100)\n",
        "        opt = solver.solve(prob, x=XInit, Delta_bar=250)\n",
        "\n",
        "        from pymanopt.solvers import SteepestDescent\n",
        "        prob = Problem(man, cost=cost, egrad=egrad, verbosity=1)\n",
        "        solvS = SteepestDescent(\n",
        "            maxtime=10000, maxiter=1000000, mingradnorm=1e-8)\n",
        "\n",
        "        print('Doing SteepestDescent')\n",
        "        opt2 = solvS.solve(prob, x=XInit)\n",
        "\n",
        "        for alx in range(1, 60):\n",
        "            alpha_c = alp.copy()\n",
        "            alpha_c[1] = .1 + alx*.02\n",
        "            man1 = RealFlagOpt(dvec, alp=alpha_c)\n",
        "            prob = Problem(man1, cost, egrad=egrad, ehess=ehess, verbosity=1)\n",
        "\n",
        "            solver = TrustRegions(maxtime=100000, maxiter=100)\n",
        "            opt = solver.solve(prob, x=XInit, Delta_bar=250)\n",
        "            print('alp =%s cost =%f' % (alpha_c, cost(opt)))                        \n",
        "            \n",
        "        \n"
      ],
      "execution_count": 5,
      "outputs": [
        {
          "output_type": "stream",
          "text": [
            "doing alp [1.  0.4]\n",
            "Optimizing...\n",
            "Terminated - min grad norm reached after 16 iterations, 6.20 seconds.\n",
            "\n",
            "Doing SteepestDescent\n",
            "Terminated - min stepsize reached after 1240 iterations, 34.95 seconds.\n",
            "\n",
            "Optimizing...\n",
            "Terminated - min grad norm reached after 25 iterations, 6.38 seconds.\n",
            "\n",
            "alp =[1.   0.12] cost =40.120000\n",
            "Optimizing...\n",
            "Terminated - min grad norm reached after 23 iterations, 7.59 seconds.\n",
            "\n",
            "alp =[1.   0.14] cost =40.120000\n",
            "Optimizing...\n",
            "Terminated - min grad norm reached after 20 iterations, 7.48 seconds.\n",
            "\n",
            "alp =[1.   0.16] cost =40.120000\n",
            "Optimizing...\n",
            "Terminated - min grad norm reached after 19 iterations, 6.47 seconds.\n",
            "\n",
            "alp =[1.   0.18] cost =40.120000\n",
            "Optimizing...\n",
            "Terminated - min grad norm reached after 17 iterations, 5.56 seconds.\n",
            "\n",
            "alp =[1.  0.2] cost =40.120000\n",
            "Optimizing...\n",
            "Terminated - min grad norm reached after 18 iterations, 6.61 seconds.\n",
            "\n",
            "alp =[1.   0.22] cost =40.120000\n",
            "Optimizing...\n",
            "Terminated - min grad norm reached after 18 iterations, 6.76 seconds.\n",
            "\n",
            "alp =[1.   0.24] cost =40.120000\n",
            "Optimizing...\n",
            "Terminated - min grad norm reached after 19 iterations, 6.99 seconds.\n",
            "\n",
            "alp =[1.   0.26] cost =40.120000\n",
            "Optimizing...\n",
            "Terminated - min grad norm reached after 19 iterations, 8.25 seconds.\n",
            "\n",
            "alp =[1.   0.28] cost =40.120000\n",
            "Optimizing...\n",
            "Terminated - min grad norm reached after 19 iterations, 6.89 seconds.\n",
            "\n",
            "alp =[1.  0.3] cost =40.120000\n",
            "Optimizing...\n",
            "Terminated - min grad norm reached after 19 iterations, 7.62 seconds.\n",
            "\n",
            "alp =[1.   0.32] cost =40.120000\n",
            "Optimizing...\n",
            "Terminated - min grad norm reached after 17 iterations, 6.49 seconds.\n",
            "\n",
            "alp =[1.   0.34] cost =40.120000\n",
            "Optimizing...\n",
            "Terminated - min grad norm reached after 16 iterations, 6.41 seconds.\n",
            "\n",
            "alp =[1.   0.36] cost =40.120000\n",
            "Optimizing...\n",
            "Terminated - min grad norm reached after 16 iterations, 6.74 seconds.\n",
            "\n",
            "alp =[1.   0.38] cost =40.120000\n",
            "Optimizing...\n",
            "Terminated - min grad norm reached after 16 iterations, 6.10 seconds.\n",
            "\n",
            "alp =[1.  0.4] cost =40.120000\n",
            "Optimizing...\n",
            "Terminated - min grad norm reached after 17 iterations, 8.87 seconds.\n",
            "\n",
            "alp =[1.   0.42] cost =40.120000\n",
            "Optimizing...\n",
            "Terminated - min grad norm reached after 16 iterations, 6.93 seconds.\n",
            "\n",
            "alp =[1.   0.44] cost =40.120000\n",
            "Optimizing...\n",
            "Terminated - min grad norm reached after 15 iterations, 6.51 seconds.\n",
            "\n",
            "alp =[1.   0.46] cost =40.120000\n",
            "Optimizing...\n",
            "Terminated - min grad norm reached after 15 iterations, 7.64 seconds.\n",
            "\n",
            "alp =[1.   0.48] cost =40.120000\n",
            "Optimizing...\n",
            "Terminated - min grad norm reached after 14 iterations, 6.08 seconds.\n",
            "\n",
            "alp =[1.  0.5] cost =40.120000\n",
            "Optimizing...\n",
            "Terminated - min grad norm reached after 15 iterations, 7.26 seconds.\n",
            "\n",
            "alp =[1.   0.52] cost =40.120000\n",
            "Optimizing...\n",
            "Terminated - min grad norm reached after 14 iterations, 5.77 seconds.\n",
            "\n",
            "alp =[1.   0.54] cost =40.120000\n",
            "Optimizing...\n",
            "Terminated - min grad norm reached after 14 iterations, 5.78 seconds.\n",
            "\n",
            "alp =[1.   0.56] cost =40.120000\n",
            "Optimizing...\n",
            "Terminated - min grad norm reached after 14 iterations, 5.86 seconds.\n",
            "\n",
            "alp =[1.   0.58] cost =40.120000\n",
            "Optimizing...\n",
            "Terminated - min grad norm reached after 15 iterations, 6.42 seconds.\n",
            "\n",
            "alp =[1.  0.6] cost =40.120000\n",
            "Optimizing...\n",
            "Terminated - min grad norm reached after 15 iterations, 7.27 seconds.\n",
            "\n",
            "alp =[1.   0.62] cost =40.120000\n",
            "Optimizing...\n",
            "Terminated - min grad norm reached after 15 iterations, 7.70 seconds.\n",
            "\n",
            "alp =[1.   0.64] cost =40.120000\n",
            "Optimizing...\n",
            "Terminated - min grad norm reached after 15 iterations, 7.67 seconds.\n",
            "\n",
            "alp =[1.   0.66] cost =40.120000\n",
            "Optimizing...\n",
            "Terminated - min grad norm reached after 15 iterations, 7.70 seconds.\n",
            "\n",
            "alp =[1.   0.68] cost =40.120000\n",
            "Optimizing...\n",
            "Terminated - min grad norm reached after 14 iterations, 5.50 seconds.\n",
            "\n",
            "alp =[1.  0.7] cost =40.120000\n",
            "Optimizing...\n",
            "Terminated - min grad norm reached after 15 iterations, 7.54 seconds.\n",
            "\n",
            "alp =[1.   0.72] cost =40.120000\n",
            "Optimizing...\n",
            "Terminated - min grad norm reached after 15 iterations, 7.25 seconds.\n",
            "\n",
            "alp =[1.   0.74] cost =40.120000\n",
            "Optimizing...\n",
            "Terminated - min grad norm reached after 15 iterations, 7.37 seconds.\n",
            "\n",
            "alp =[1.   0.76] cost =40.120000\n",
            "Optimizing...\n",
            "Terminated - min grad norm reached after 14 iterations, 5.72 seconds.\n",
            "\n",
            "alp =[1.   0.78] cost =40.120000\n",
            "Optimizing...\n",
            "Terminated - min grad norm reached after 16 iterations, 7.37 seconds.\n",
            "\n",
            "alp =[1.  0.8] cost =40.120000\n",
            "Optimizing...\n",
            "Terminated - min grad norm reached after 16 iterations, 7.69 seconds.\n",
            "\n",
            "alp =[1.   0.82] cost =40.120000\n",
            "Optimizing...\n",
            "Terminated - min grad norm reached after 16 iterations, 8.18 seconds.\n",
            "\n",
            "alp =[1.   0.84] cost =40.120000\n",
            "Optimizing...\n",
            "Terminated - min grad norm reached after 16 iterations, 8.50 seconds.\n",
            "\n",
            "alp =[1.   0.86] cost =40.120000\n",
            "Optimizing...\n",
            "Terminated - min grad norm reached after 16 iterations, 8.48 seconds.\n",
            "\n",
            "alp =[1.   0.88] cost =40.120000\n",
            "Optimizing...\n",
            "Terminated - min grad norm reached after 17 iterations, 9.88 seconds.\n",
            "\n",
            "alp =[1.  0.9] cost =40.120000\n",
            "Optimizing...\n",
            "Terminated - min grad norm reached after 17 iterations, 9.80 seconds.\n",
            "\n",
            "alp =[1.   0.92] cost =40.120000\n",
            "Optimizing...\n",
            "Terminated - min grad norm reached after 16 iterations, 8.11 seconds.\n",
            "\n",
            "alp =[1.   0.94] cost =40.120000\n",
            "Optimizing...\n",
            "Terminated - min grad norm reached after 16 iterations, 7.89 seconds.\n",
            "\n",
            "alp =[1.   0.96] cost =40.120000\n",
            "Optimizing...\n",
            "Terminated - min grad norm reached after 15 iterations, 6.77 seconds.\n",
            "\n",
            "alp =[1.   0.98] cost =40.120000\n",
            "Optimizing...\n",
            "Terminated - min grad norm reached after 16 iterations, 8.79 seconds.\n",
            "\n",
            "alp =[1. 1.] cost =40.120000\n",
            "Optimizing...\n",
            "Terminated - min grad norm reached after 15 iterations, 7.71 seconds.\n",
            "\n",
            "alp =[1.   1.02] cost =40.120000\n",
            "Optimizing...\n",
            "Terminated - min grad norm reached after 15 iterations, 7.54 seconds.\n",
            "\n",
            "alp =[1.   1.04] cost =40.120000\n",
            "Optimizing...\n",
            "Terminated - min grad norm reached after 15 iterations, 7.33 seconds.\n",
            "\n",
            "alp =[1.   1.06] cost =40.120000\n",
            "Optimizing...\n",
            "Terminated - min grad norm reached after 15 iterations, 6.57 seconds.\n",
            "\n",
            "alp =[1.   1.08] cost =40.120000\n",
            "Optimizing...\n",
            "Terminated - min grad norm reached after 15 iterations, 6.60 seconds.\n",
            "\n",
            "alp =[1.  1.1] cost =40.120000\n",
            "Optimizing...\n",
            "Terminated - min grad norm reached after 14 iterations, 6.14 seconds.\n",
            "\n",
            "alp =[1.   1.12] cost =40.120000\n",
            "Optimizing...\n",
            "Terminated - min grad norm reached after 14 iterations, 7.08 seconds.\n",
            "\n",
            "alp =[1.   1.14] cost =40.120000\n",
            "Optimizing...\n",
            "Terminated - min grad norm reached after 15 iterations, 8.45 seconds.\n",
            "\n",
            "alp =[1.   1.16] cost =40.120000\n",
            "Optimizing...\n",
            "Terminated - min grad norm reached after 16 iterations, 10.84 seconds.\n",
            "\n",
            "alp =[1.   1.18] cost =40.120000\n",
            "Optimizing...\n",
            "Terminated - min grad norm reached after 15 iterations, 7.36 seconds.\n",
            "\n",
            "alp =[1.  1.2] cost =40.120000\n",
            "Optimizing...\n",
            "Terminated - min grad norm reached after 15 iterations, 7.23 seconds.\n",
            "\n",
            "alp =[1.   1.22] cost =40.120000\n",
            "Optimizing...\n",
            "Terminated - min grad norm reached after 16 iterations, 9.97 seconds.\n",
            "\n",
            "alp =[1.   1.24] cost =40.120000\n",
            "Optimizing...\n",
            "Terminated - min grad norm reached after 16 iterations, 9.73 seconds.\n",
            "\n",
            "alp =[1.   1.26] cost =40.120000\n",
            "Optimizing...\n",
            "Terminated - min grad norm reached after 16 iterations, 9.86 seconds.\n",
            "\n",
            "alp =[1.   1.28] cost =40.120000\n"
          ],
          "name": "stdout"
        }
      ]
    },
    {
      "cell_type": "markdown",
      "metadata": {
        "id": "tJkdXR0wPjI2"
      },
      "source": [
        "Parse the output and collect the data to a table of $\\alpha$, number of iterations and time in seconds. There is no noticable pattern in time, but number of iterations seems to be high at small $\\alpha$."
      ]
    },
    {
      "cell_type": "code",
      "metadata": {
        "colab": {
          "base_uri": "https://localhost:8080/"
        },
        "id": "wWWa6xHt_UH7",
        "outputId": "f6824837-161e-45a3-a9a0-9360aee0a580"
      },
      "source": [
        "with open('/content/SimpleFlag/tests/test_res.txt') as fi:\n",
        "    lns = fi.readlines()\n",
        "hret = {}\n",
        "cnt = 0\n",
        "\n",
        "def parse_line(alist):\n",
        "    save_item = []\n",
        "    for a in alist:\n",
        "        try:\n",
        "            save_item.append(float(a))\n",
        "        except Exception as e:\n",
        "            pass\n",
        "    return save_item\n",
        "\n",
        "for i in range(len(lns)):\n",
        "    if lns[i].startswith('Terminated'):\n",
        "        save_item = parse_line(lns[i].split())\n",
        "    elif lns[i].startswith('alp'):\n",
        "        hret[cnt] = {'al': float(lns[i].split()[2][:-1]),\n",
        "                    'items': save_item}\n",
        "        cnt += 1\n",
        "lnr = len(hret)\n",
        "ret = np.zeros((lnr, 3))\n",
        "for i in sorted(hret):\n",
        "    ret[i, 0] = hret[i]['al']\n",
        "    ret[i, 1] = hret[i]['items'][0]\n",
        "    ret[i, 2] = hret[i]['items'][1]\n",
        "print(ret)"
      ],
      "execution_count": 6,
      "outputs": [
        {
          "output_type": "stream",
          "text": [
            "[[ 0.12 25.    8.8 ]\n",
            " [ 0.14 23.   10.36]\n",
            " [ 0.16 20.   10.23]\n",
            " [ 0.18 19.    8.95]\n",
            " [ 0.2  17.    7.74]\n",
            " [ 0.22 18.    9.09]\n",
            " [ 0.24 18.    9.33]\n",
            " [ 0.26 19.    9.67]\n",
            " [ 0.28 19.   11.41]\n",
            " [ 0.3  19.    9.55]\n",
            " [ 0.32 19.   10.43]\n",
            " [ 0.34 17.    8.99]\n",
            " [ 0.36 16.    8.8 ]\n",
            " [ 0.38 16.    9.33]\n",
            " [ 0.4  16.    8.42]\n",
            " [ 0.42 17.   12.21]\n",
            " [ 0.44 16.    9.57]\n",
            " [ 0.46 15.    9.03]\n",
            " [ 0.48 15.   10.64]\n",
            " [ 0.5  14.    8.42]\n",
            " [ 0.52 15.   10.01]\n",
            " [ 0.54 14.    7.9 ]\n",
            " [ 0.56 14.    8.08]\n",
            " [ 0.58 14.    8.03]\n",
            " [ 0.6  15.    8.92]\n",
            " [ 0.62 15.    9.92]\n",
            " [ 0.64 15.   10.58]\n",
            " [ 0.66 15.   10.62]\n",
            " [ 0.68 15.   10.78]\n",
            " [ 0.7  14.    7.54]\n",
            " [ 0.72 15.   11.02]\n",
            " [ 0.74 15.   10.42]\n",
            " [ 0.76 15.   11.1 ]\n",
            " [ 0.78 14.    8.01]\n",
            " [ 0.8  16.   10.29]\n",
            " [ 0.82 16.   10.77]\n",
            " [ 0.84 16.   11.38]\n",
            " [ 0.86 16.   11.72]\n",
            " [ 0.88 16.   11.9 ]\n",
            " [ 0.9  17.   13.74]\n",
            " [ 0.92 17.   13.64]\n",
            " [ 0.94 16.   11.17]\n",
            " [ 0.96 16.   10.76]\n",
            " [ 0.98 15.    9.31]\n",
            " [ 1.   16.   12.  ]\n",
            " [ 1.02 15.   10.71]\n",
            " [ 1.04 15.   10.45]\n",
            " [ 1.06 15.   10.14]\n",
            " [ 1.08 15.    9.05]\n",
            " [ 1.1  15.    9.14]\n",
            " [ 1.12 14.    8.56]\n",
            " [ 1.14 14.    9.9 ]\n",
            " [ 1.16 15.   11.73]\n",
            " [ 1.18 16.   14.93]\n",
            " [ 1.2  15.   10.14]\n",
            " [ 1.22 15.    9.92]\n",
            " [ 1.24 16.   13.7 ]\n",
            " [ 1.26 16.   14.17]\n",
            " [ 1.28 16.   13.68]]\n"
          ],
          "name": "stdout"
        }
      ]
    },
    {
      "cell_type": "code",
      "metadata": {
        "colab": {
          "base_uri": "https://localhost:8080/",
          "height": 289
        },
        "id": "Y3_Xag1YsmZ6",
        "outputId": "08d80d6c-7ffb-40b6-cb0d-ee9905a4e821"
      },
      "source": [
        "import matplotlib.pyplot as plt\n",
        "fig = plt.figure()\n",
        "fig.subplots_adjust(top=0.8)\n",
        "ax1 = fig.add_subplot(111)\n",
        "ax1.set_ylabel('# iterations')\n",
        "ax1.set_xlabel('alpha')\n",
        "ax1.set_title('# iterations vs alpha for flag manifold')\n",
        "plt.plot(ret[:, 0], ret[:, 1])"
      ],
      "execution_count": null,
      "outputs": [
        {
          "output_type": "execute_result",
          "data": {
            "text/plain": [
              "[<matplotlib.lines.Line2D at 0x7fcf05209710>]"
            ]
          },
          "metadata": {
            "tags": []
          },
          "execution_count": 56
        },
        {
          "output_type": "display_data",
          "data": {
            "image/png": "[encoded data removed]",
            "text/plain": [
              "<Figure size 432x288 with 1 Axes>"
            ]
          },
          "metadata": {
            "tags": [],
            "needs_background": "light"
          }
        }
      ]
    },
    {
      "cell_type": "markdown",
      "metadata": {
        "id": "Wa3y7oXW6Hpp"
      },
      "source": [
        "# Run one separate simulation to show superlinear convergence"
      ]
    },
    {
      "cell_type": "code",
      "metadata": {
        "colab": {
          "base_uri": "https://localhost:8080/"
        },
        "id": "90Eag91jQEaZ",
        "outputId": "b0be2391-780e-44b3-a545-5dcb71ebc443"
      },
      "source": [
        "import numpy as np\n",
        "from numpy import trace\n",
        "from SimpleFlag.manifolds.RealFlagOpt import RealFlagOpt\n",
        "\n",
        "from ManNullRange.tests.test_tools import random_orthogonal\n",
        "\n",
        "from pymanopt import Problem\n",
        "from pymanopt.solvers import TrustRegions\n",
        "from pymanopt.function import Callable\n",
        "\n",
        "\n",
        "def l1(A):\n",
        "    return np.max(np.abs(A))\n",
        "\n",
        "\n",
        "n = 1000\n",
        "np.random.seed(0)\n",
        "\n",
        "\n",
        "dvec = np.array([0, 30, 20, 10])\n",
        "\n",
        "dvec[0] = n - dvec[1:].sum()\n",
        "\n",
        "d = dvec[1:].sum()\n",
        "dvec[0] = n - d\n",
        "D = np.random.randint(1, 100, n) * 0.2\n",
        "OO = random_orthogonal(n)\n",
        "A = OO @ np.diag(D) @ OO.T\n",
        "\n",
        "alp = np.array([1, np.random.randint(1, 20)*.1])\n",
        "man = RealFlagOpt(dvec, alp=alp)\n",
        "pp = dvec.shape[0] - 1\n",
        "\n",
        "Lbd = np.concatenate(\n",
        "    [dvec[a]*[a] for a in np.arange(1, pp+1)])        \n",
        "\n",
        "@Callable\n",
        "def cost(X):\n",
        "    U = ((X.T@A)@X)*Lbd[None, :]\n",
        "    return trace(U@U)\n",
        "\n",
        "@Callable\n",
        "def egrad(X):\n",
        "    AXL = (A@X)*Lbd[None, :]\n",
        "    return 4*AXL@(X.T@AXL)\n",
        "\n",
        "@Callable\n",
        "def ehess(X, H):\n",
        "    AHL = (A@H)*Lbd[None, :]\n",
        "    AXL = (A@X)*Lbd[None, :]\n",
        "    return 4*AHL@(X.T@AXL) + 4*AXL@(H.T@AXL) + 4*AXL@(X.T@AHL)\n",
        "        \n",
        "XInit = man.rand()\n",
        "\n",
        "alp = np.array([1, 1.])\n",
        "man = RealFlagOpt(dvec, alp=alp)\n",
        "prob = Problem(\n",
        "    man, cost, egrad=egrad, ehess=ehess, verbosity=2)\n",
        "\n",
        "solver = TrustRegions(maxtime=100000, maxiter=100)\n",
        "opt = solver.solve(prob, x=XInit, Delta_bar=250)\n"
      ],
      "execution_count": null,
      "outputs": [
        {
          "output_type": "stream",
          "text": [
            "Optimizing...\n",
            "                                            f: +1.985264e+04   |grad|: 7.623233e+03\n",
            "REJ TR-   k:     1     num_inner:     1     f: +1.985264e+04   |grad|: 7.623233e+03   negative curvature\n",
            "acc       k:     2     num_inner:     1     f: +3.265756e+03   |grad|: 1.419827e+03   negative curvature\n",
            "acc       k:     3     num_inner:     3     f: +6.790686e+02   |grad|: 8.642621e+02   negative curvature\n",
            "acc       k:     4     num_inner:     6     f: +2.932108e+02   |grad|: 3.878877e+02   exceeded trust region\n",
            "acc       k:     5     num_inner:    10     f: +1.754229e+02   |grad|: 2.276902e+02   negative curvature\n",
            "acc       k:     6     num_inner:    12     f: +1.181011e+02   |grad|: 1.359193e+02   negative curvature\n",
            "acc       k:     7     num_inner:    14     f: +8.380086e+01   |grad|: 7.562125e+01   exceeded trust region\n",
            "acc       k:     8     num_inner:    14     f: +6.749491e+01   |grad|: 5.320430e+01   exceeded trust region\n",
            "acc TR-   k:     9     num_inner:    16     f: +6.076605e+01   |grad|: 4.502733e+01   exceeded trust region\n",
            "acc TR+   k:    10     num_inner:     8     f: +4.247978e+01   |grad|: 1.575904e+01   exceeded trust region\n",
            "acc       k:    11     num_inner:     9     f: +4.031294e+01   |grad|: 3.398976e+00   reached target residual-kappa (linear)\n",
            "acc       k:    12     num_inner:    16     f: +4.012651e+01   |grad|: 4.548822e-01   reached target residual-kappa (linear)\n",
            "acc       k:    13     num_inner:    22     f: +4.012007e+01   |grad|: 4.175538e-02   reached target residual-kappa (linear)\n",
            "acc       k:    14     num_inner:    31     f: +4.012000e+01   |grad|: 1.565215e-03   reached target residual-theta (superlinear)\n",
            "acc       k:    15     num_inner:    57     f: +4.012000e+01   |grad|: 2.323335e-06   reached target residual-theta (superlinear)\n",
            "acc       k:    16     num_inner:    80     f: +4.012000e+01   |grad|: 6.503578e-11   model increased\n",
            "Terminated - min grad norm reached after 16 iterations, 12.41 seconds.\n",
            "\n"
          ],
          "name": "stdout"
        }
      ]
    },
    {
      "cell_type": "markdown",
      "metadata": {
        "id": "chI_APYDSQYI"
      },
      "source": [
        "Collect the data and graph\n"
      ]
    },
    {
      "cell_type": "code",
      "metadata": {
        "colab": {
          "base_uri": "https://localhost:8080/",
          "height": 297
        },
        "id": "KUATwxkmUjIt",
        "outputId": "649904c3-ef29-4203-cd33-71315df86e0f"
      },
      "source": [
        "ret2 = np.array([[1,  +1.985264e+04, 7.623233e+03],\n",
        "[2,  +3.265756e+03,    1.419827e+03],\n",
        "[3,  +6.790686e+02, 8.642621e+02],\n",
        "[4,   +2.932108e+02, 3.878877e+02],\n",
        "[5, +1.754229e+02, 2.276902e+02],\n",
        "[6, +1.181011e+02, 1.359193e+02],\n",
        "[7, +8.380086e+01, 7.562125e+01],\n",
        "[8, +6.749491e+01, 5.320430e+01],\n",
        "[9, +6.076605e+01, 4.502733e+01],   \n",
        "[10, +4.247978e+01, 1.575904e+01],\n",
        "[11, +4.031294e+01, 3.398976e+00],\n",
        "[12, +4.012651e+01, 4.548822e-01],\n",
        "[13, +4.012007e+01, 4.175538e-02],\n",
        "[14, +4.012000e+01, 1.565215e-03],\n",
        "[15,+4.012000e+01,  2.323335e-06],\n",
        "[16, +4.012000e+01, 6.503578e-11]])\n",
        "# Terminated - min grad norm reached after 16 iterations, 12.41 seconds.\n",
        "fig, (ax1, ax2) = plt.subplots(1, 2)\n",
        "fig.subplots_adjust(top=.8)\n",
        "# fig.suptitle('Optimzation on flag manifolds')\n",
        "ax1.set_ylabel('tot. # iterations')\n",
        "ax1.set_xlabel('alpha_1/alpha_0')\n",
        "ax1.set_title('# iterations vs alpha')\n",
        "ax1.plot(ret[:, 0], ret[:, 1])\n",
        "\n",
        "ax2.set_ylabel('log10(grad)')\n",
        "ax2.set_xlabel('iteration')\n",
        "ax2.set_title('# log10 of gradient vs iterations')\n",
        "ax2.plot(ret2[:, 0], np.log10(ret2[:, 2]))\n",
        "fig.tight_layout()"
      ],
      "execution_count": null,
      "outputs": [
        {
          "output_type": "display_data",
          "data": {
            "image/png": "[encoded data removed]",
            "text/plain": [
              "<Figure size 432x288 with 2 Axes>"
            ]
          },
          "metadata": {
            "tags": [],
            "needs_background": "light"
          }
        }
      ]
    },
    {
      "cell_type": "code",
      "metadata": {
        "id": "EAOxMC0ILKAG"
      },
      "source": [
        "import numpy as np\n",
        "from numpy import trace\n",
        "from SimpleFlag.manifolds.RealFlagOpt import RealFlagOpt\n",
        "\n",
        "\n",
        "def l1(A):\n",
        "    return np.max(np.abs(A))"
      ],
      "execution_count": 6,
      "outputs": []
    },
    {
      "cell_type": "markdown",
      "metadata": {
        "id": "j5eHrh7GHH8r"
      },
      "source": [
        "Check various properties: projection is horizontal (man.J = 0), inverse works"
      ]
    },
    {
      "cell_type": "code",
      "metadata": {
        "id": "40a8K_vLHDPs",
        "outputId": "3e972bb7-23f0-47f0-98c4-53b1911e623e",
        "colab": {
          "base_uri": "https://localhost:8080/"
        }
      },
      "source": [
        "dvec = np.array([4, 3, 2])\n",
        "alp = np.array([1, .8])\n",
        "man = RealFlagOpt(dvec, alp)\n",
        "\n",
        "Y = man.rand()\n",
        "omg = man._rand_ambient()\n",
        "xi = man.randvec(Y)\n",
        "print(man.J(Y, xi))\n",
        "print(man.J(Y, man.proj(Y, omg)))\n",
        "\n",
        "print(l1(omg - man.g(Y, man.g_inv(Y, omg))))\n",
        "\n",
        "s1 = man.proj_g_inv(Y, omg)\n",
        "s2 = man.proj(Y, man.g_inv(Y, omg))\n",
        "print(l1(s1 - s2))\n",
        "print((man.inner(Y, omg, xi) - man.inner(Y, man.proj(Y, omg), xi)))\n",
        "\n",
        "eta = man.randvec(Y)    \n",
        "\n"
      ],
      "execution_count": 7,
      "outputs": [
        {
          "output_type": "stream",
          "text": [
            "{(2, 2): array([[ 7.97787281e-17, -1.57984895e-17],\n",
            "       [-1.32527645e-17, -1.36955014e-17]]), (1, 2): array([[ 0.00000000e+00,  8.32667268e-17],\n",
            "       [ 1.66533454e-16, -4.16333634e-17],\n",
            "       [-2.77555756e-17,  6.93889390e-17]]), (1, 1): array([[-3.01600004e-17, -6.57909356e-18,  1.05037612e-17],\n",
            "       [-1.15069272e-16,  7.36129780e-17, -1.59377507e-16],\n",
            "       [ 5.09990764e-17,  2.33499477e-18,  7.91147668e-17]])}\n",
            "{(2, 2): array([[-2.33360036e-16,  2.97175240e-16],\n",
            "       [-1.94153752e-16, -2.00399290e-16]]), (1, 2): array([[-3.74700271e-16, -1.66533454e-16],\n",
            "       [-4.16333634e-17,  5.55111512e-17],\n",
            "       [ 5.55111512e-17, -1.11022302e-16]]), (1, 1): array([[-1.39582543e-16,  3.77072555e-18,  2.87584709e-17],\n",
            "       [-5.37465173e-16, -7.76155663e-16,  6.99247168e-16],\n",
            "       [ 2.41829421e-16,  1.88935793e-16, -3.30172088e-16]])}\n",
            "2.220446049250313e-16\n",
            "3.3306690738754696e-16\n",
            "-1.3877787807814457e-16\n",
            "2.7755575615628914e-17\n"
          ],
          "name": "stdout"
        }
      ]
    },
    {
      "cell_type": "code",
      "metadata": {
        "id": "thCuveG_HXRA",
        "outputId": "b6bc8c20-4e88-456a-c471-03ea03db80d6",
        "colab": {
          "base_uri": "https://localhost:8080/"
        }
      },
      "source": [
        "n = dvec.sum()\n",
        "p = dvec[1:].sum()\n",
        "\n",
        "egrad = np.random.randn(n, p)\n",
        "ehess = np.random.randn(n, p)\n",
        "\n",
        "s2 = man.ehess2rhess(Y, egrad, ehess, xi)\n",
        "print('Check Riemannian Hessian vector and bilinear comforms')\n",
        "print(man.rhess02(Y, xi, eta, egrad, ehess))\n",
        "print(man.inner(Y, s2, eta))\n",
        "\n",
        "print('Check flag_sym is self adjoint')\n",
        "print(np.trace(egrad.T@Y@man.flag_sym(xi.T@eta)))\n",
        "print(np.trace((xi.T@eta).T@man.flag_sym(Y.T@egrad)))\n",
        "\n",
        "# Check compatible with metric\n",
        "def eta_func(X):\n",
        "  return man.proj(X, eta)\n",
        "\n",
        "dlt = 1e-8\n",
        "ehess1 = man.D_proj(Y, xi, eta)\n",
        "Yxi = Y+dlt*xi\n",
        "print(l1((eta_func(Yxi) - eta_func(Y))/dlt - ehess1))\n",
        "covar = ehess1 + man.GammaH(Y, xi, eta)\n",
        "print('Check compatibility with metric: the following 2 expressions should be the same')\n",
        "print((man.inner(Yxi, eta_func(Yxi), eta_func(Yxi)) - man.inner(Y, eta_func(Y), eta_func(Y)))/dlt)\n",
        "print(2*man.inner(Y, covar, eta_func(Y)))\n",
        "\n",
        "print('Check torsion free: projection of diff is zero')\n",
        "print(l1(man.proj(Y, man.GammaH(Y, xi, eta) -\n",
        "                  man.GammaH(Y, eta, xi))))\n"
      ],
      "execution_count": 15,
      "outputs": [
        {
          "output_type": "stream",
          "text": [
            "Check Riemannian Hessian vector and bilinear comforms\n",
            "-0.9996267761691127\n",
            "-0.9996267761691129\n",
            "Check flag_sym is self adjoint\n",
            "0.05472467852508359\n",
            "0.054724678525083614\n",
            "4.594703457982963e-09\n",
            "Check compatibility with metric: the following 2 expressions should be the same\n",
            "-0.01400267679585454\n",
            "-0.014002677580971335\n",
            "Check torsion free: projection of diff is zero\n",
            "2.7755575615628914e-17\n"
          ],
          "name": "stdout"
        }
      ]
    }
  ]
}